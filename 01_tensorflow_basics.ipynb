{
 "cells": [
  {
   "cell_type": "markdown",
   "id": "fda4062a",
   "metadata": {},
   "source": [
    "##creating random tensors\n",
    "Random tensors are tensors of some arbitary size which contain random numbers."
   ]
  },
  {
   "cell_type": "code",
   "execution_count": null,
   "id": "32cbd924",
   "metadata": {
    "vscode": {
     "languageId": "plaintext"
    }
   },
   "outputs": [],
   "source": [
    " "
   ]
  }
 ],
 "metadata": {
  "language_info": {
   "name": "python"
  }
 },
 "nbformat": 4,
 "nbformat_minor": 5
}
